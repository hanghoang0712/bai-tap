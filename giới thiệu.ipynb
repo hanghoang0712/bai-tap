{
 "cells": [
  {
   "cell_type": "code",
   "execution_count": 1,
   "id": "29313373",
   "metadata": {},
   "outputs": [
    {
     "name": "stdout",
     "output_type": "stream",
     "text": [
      " Họ và tên : Hoàng Thị Hằng\n",
      " Nơi ở : Hồ chí Minh\n",
      "Định hướng: Mong muốn thay đổi công việc\n"
     ]
    }
   ],
   "source": [
    "print (\" Họ và tên : Hoàng Thị Hằng\")\n",
    "print(\" Nơi ở : Hồ chí Minh\")\n",
    "print(\"Định hướng: Mong muốn thay đổi công việc\")"
   ]
  },
  {
   "cell_type": "code",
   "execution_count": null,
   "id": "e8ca1cda",
   "metadata": {},
   "outputs": [],
   "source": []
  },
  {
   "cell_type": "code",
   "execution_count": null,
   "id": "615a2791",
   "metadata": {},
   "outputs": [],
   "source": []
  },
  {
   "cell_type": "code",
   "execution_count": null,
   "id": "788cfe13",
   "metadata": {},
   "outputs": [],
   "source": []
  }
 ],
 "metadata": {
  "kernelspec": {
   "display_name": "Python 3 (ipykernel)",
   "language": "python",
   "name": "python3"
  },
  "language_info": {
   "codemirror_mode": {
    "name": "ipython",
    "version": 3
   },
   "file_extension": ".py",
   "mimetype": "text/x-python",
   "name": "python",
   "nbconvert_exporter": "python",
   "pygments_lexer": "ipython3",
   "version": "3.9.13"
  }
 },
 "nbformat": 4,
 "nbformat_minor": 5
}
